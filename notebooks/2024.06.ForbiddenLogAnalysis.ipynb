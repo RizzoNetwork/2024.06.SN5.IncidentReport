{
 "cells": [
  {
   "cell_type": "markdown",
   "id": "e9d229e3-771d-4928-90b2-57279f0432a9",
   "metadata": {},
   "source": [
    "## Forbidden Log Entry Analysis\n",
    "\n",
    "### How many blacklisters ..."
   ]
  },
  {
   "cell_type": "code",
   "execution_count": 3,
   "id": "44c3f0f2-3125-4395-b4d1-90b147ec5bfe",
   "metadata": {},
   "outputs": [
    {
     "name": "stdout",
     "output_type": "stream",
     "text": [
      "142 blacklisting hotkeys\n"
     ]
    }
   ],
   "source": [
    "log_file = \"../supporting_data/forbidden.all.log\"\n",
    "get_hotkeys = f\"cat {log_file} | awk -F '|' '{{print $7,$8}}' | awk '{{for(i=1;i<=NF;i++) if ($i ~ /^5/) print $i}}'\"\n",
    "hotkeys = !{get_hotkeys}\n",
    "print(len(set(hotkeys)), \"blacklisting hotkeys\")"
   ]
  },
  {
   "cell_type": "markdown",
   "id": "3e66eec3-08bd-4e5b-ae36-f77965212ca0",
   "metadata": {},
   "source": [
    "### When did blacklisting begin?"
   ]
  },
  {
   "cell_type": "code",
   "execution_count": 26,
   "id": "0c8cd628-eb40-4c45-aafc-867d279899f7",
   "metadata": {
    "scrolled": true
   },
   "outputs": [
    {
     "name": "stdout",
     "output_type": "stream",
     "text": [
      "2024-05-21 - 60 blacklisting hotkeys\n",
      "2024-05-22 - 66 blacklisting hotkeys\n",
      "2024-06-07 - 142 blacklisting hotkeys\n"
     ]
    }
   ],
   "source": [
    "get_dates = f\"cat {log_file} | awk -F 'T' '{{print $1}}' | awk -F ' ' '{{print $1}}'\"\n",
    "dates = !{get_dates}\n",
    "data = {k:[] for k in set(dates)}\n",
    "for i,date in enumerate(dates):\n",
    "    data[date].append(hotkeys[i])\n",
    "\n",
    "for k in [\"2024-05-21\", \"2024-05-22\", \"2024-06-07\"]:\n",
    "    print(f\"{k} - {len(set(data[k]))} blacklisting hotkeys\")"
   ]
  },
  {
   "cell_type": "markdown",
   "id": "7ce278fb-d911-44fb-8383-fc9b7023b460",
   "metadata": {},
   "source": [
    "### How often are we seeing the same reason (HotKey is in BlackList)?"
   ]
  },
  {
   "cell_type": "code",
   "execution_count": 33,
   "id": "3aa82da3-5c79-4936-a157-914e5d72d501",
   "metadata": {},
   "outputs": [
    {
     "name": "stdout",
     "output_type": "stream",
     "text": [
      "99.28% of all blacklist responses included: 'HotKey is in BlackList'\n"
     ]
    }
   ],
   "source": [
    "number_of_total_lines = !grep \"Forbidden. Key is blacklisted: \" {log_file} | wc -l\n",
    "number_of_lines_with_the_reason = !grep \"Forbidden. Key is blacklisted: HotKey is in BlackList\" {log_file} | wc -l\n",
    "print(f\"{round(int(number_of_lines_with_the_reason[0])/int(number_of_total_lines[0])*100, 2)}% of all blacklist responses included: 'HotKey is in BlackList'\")"
   ]
  },
  {
   "cell_type": "markdown",
   "id": "32c3f3a6-6ebf-4545-beea-9b49a6d52b48",
   "metadata": {},
   "source": [
    "#### Other Reasons"
   ]
  },
  {
   "cell_type": "code",
   "execution_count": 28,
   "id": "bb1c16fb-71d5-4e25-822d-e8c8559221f1",
   "metadata": {},
   "outputs": [
    {
     "name": "stdout",
     "output_type": "stream",
     "text": [
      "The other reasons are: \n",
      "Blaclisting a request from hotkey 5CXRfP2ekFhe62r7q3vppRajJmGhTi7vwvb2yr79jveZ282w. - \n",
      "Non-validator hotkey. - \n"
     ]
    }
   ],
   "source": [
    "get_other_reasons = f\"grep -v 'HotKey is in BlackList' {log_file} | awk -F 'Forbidden. Key is blacklisted: ' '{{print $2}}'\"\n",
    "print(\"The other reasons are: \")\n",
    "!{get_other_reasons} | sort | uniq"
   ]
  },
  {
   "cell_type": "markdown",
   "id": "06c4bc1b-6590-42f2-b30f-1f015b22bf22",
   "metadata": {},
   "source": [
    "### How many miners are using the \"HotKey is in BlackList\" reason?"
   ]
  },
  {
   "cell_type": "code",
   "execution_count": 37,
   "id": "819e88d0-d76b-4d59-b17d-63eb40ac25b3",
   "metadata": {},
   "outputs": [
    {
     "name": "stdout",
     "output_type": "stream",
     "text": [
      "134 of the miners on SN5 are using the 'HotKey is in BlackList' reason\n"
     ]
    }
   ],
   "source": [
    "get_hotkeys_for_same_reason = f\"grep 'HotKey is in BlackList' {log_file} | awk -F '|' '{{print $7,$8}}' | awk '{{for(i=1;i<=NF;i++) if ($i ~ /^5/) print $i}}'\"\n",
    "hotkeys = !{get_hotkeys_for_same_reason}\n",
    "print(f\"{len(set(hotkeys))} of the miners on SN5 are using the 'HotKey is in BlackList' reason\")"
   ]
  },
  {
   "cell_type": "code",
   "execution_count": null,
   "id": "88f9c5e2-159b-4d2e-8d68-96f91ca4ea48",
   "metadata": {},
   "outputs": [],
   "source": []
  }
 ],
 "metadata": {
  "kernelspec": {
   "display_name": "Python 3 (ipykernel)",
   "language": "python",
   "name": "python3"
  },
  "language_info": {
   "codemirror_mode": {
    "name": "ipython",
    "version": 3
   },
   "file_extension": ".py",
   "mimetype": "text/x-python",
   "name": "python",
   "nbconvert_exporter": "python",
   "pygments_lexer": "ipython3",
   "version": "3.12.3"
  }
 },
 "nbformat": 4,
 "nbformat_minor": 5
}
